{
  "nbformat": 4,
  "nbformat_minor": 0,
  "metadata": {
    "colab": {
      "provenance": [],
      "gpuType": "T4",
      "authorship_tag": "ABX9TyPmut9NaxPCP7TK0gNSCpUB",
      "include_colab_link": true
    },
    "kernelspec": {
      "name": "python3",
      "display_name": "Python 3"
    },
    "language_info": {
      "name": "python"
    },
    "accelerator": "GPU"
  },
  "cells": [
    {
      "cell_type": "markdown",
      "metadata": {
        "id": "view-in-github",
        "colab_type": "text"
      },
      "source": [
        "<a href=\"https://colab.research.google.com/github/paavni-27/automatedFinancialPlanning/blob/main/amex.ipynb\" target=\"_parent\"><img src=\"https://colab.research.google.com/assets/colab-badge.svg\" alt=\"Open In Colab\"/></a>"
      ]
    },
    {
      "cell_type": "code",
      "execution_count": 2,
      "metadata": {
        "id": "8XB59DXDw3PL"
      },
      "outputs": [],
      "source": [
        "import pandas as pd\n",
        "import numpy as np\n",
        "\n",
        "import matplotlib.pyplot as plt\n",
        "import seaborn as sns\n",
        "\n",
        "import warnings\n",
        "warnings.filterwarnings('ignore')"
      ]
    },
    {
      "cell_type": "markdown",
      "source": [
        "loading datasets"
      ],
      "metadata": {
        "id": "jmMqGu7D4FEH"
      }
    },
    {
      "cell_type": "code",
      "source": [
        "df=pd.read_csv('/content/cost_of_living_us.csv')\n",
        "df.head()"
      ],
      "metadata": {
        "colab": {
          "base_uri": "https://localhost:8080/",
          "height": 313
        },
        "id": "tgI9ZBhQxyi4",
        "outputId": "868fa734-6700-468a-8482-b41da43c30b0"
      },
      "execution_count": 4,
      "outputs": [
        {
          "output_type": "execute_result",
          "data": {
            "text/plain": [
              "   case_id state  isMetro            areaname          county  \\\n",
              "0        1    AL     True  Montgomery, AL MSA  Autauga County   \n",
              "1        1    AL     True  Montgomery, AL MSA  Autauga County   \n",
              "2        1    AL     True  Montgomery, AL MSA  Autauga County   \n",
              "3        1    AL     True  Montgomery, AL MSA  Autauga County   \n",
              "4        1    AL     True  Montgomery, AL MSA  Autauga County   \n",
              "\n",
              "  family_member_count  housing_cost    food_cost  transportation_cost  \\\n",
              "0                1p0c    8505.72876   3454.91712          10829.16876   \n",
              "1                1p1c   12067.50240   5091.70788          11588.19288   \n",
              "2                1p2c   12067.50240   7460.20308          12361.77720   \n",
              "3                1p3c   15257.15040   9952.23924          13452.18600   \n",
              "4                1p4c   15257.15040  12182.21400          13744.59840   \n",
              "\n",
              "   healthcare_cost  other_necessities_cost  childcare_cost        taxes  \\\n",
              "0       5737.47984              4333.81344          0.0000   6392.94504   \n",
              "1       8659.55640              6217.45896       6147.8298   7422.07836   \n",
              "2      11581.63260              7075.65816      15824.6940   9769.56228   \n",
              "3      14503.70760              9134.35620      18802.1892  13101.70320   \n",
              "4      17425.78560              9942.36396      18802.1892  13469.21880   \n",
              "\n",
              "    total_cost  median_family_income  \n",
              "0   39254.0532          73010.414062  \n",
              "1   57194.3256          73010.414062  \n",
              "2   76141.0308          73010.414062  \n",
              "3   94203.5328          73010.414062  \n",
              "4  100823.5200          73010.414062  "
            ],
            "text/html": [
              "\n",
              "  <div id=\"df-e7418e66-c237-415d-9896-cee116a1d921\" class=\"colab-df-container\">\n",
              "    <div>\n",
              "<style scoped>\n",
              "    .dataframe tbody tr th:only-of-type {\n",
              "        vertical-align: middle;\n",
              "    }\n",
              "\n",
              "    .dataframe tbody tr th {\n",
              "        vertical-align: top;\n",
              "    }\n",
              "\n",
              "    .dataframe thead th {\n",
              "        text-align: right;\n",
              "    }\n",
              "</style>\n",
              "<table border=\"1\" class=\"dataframe\">\n",
              "  <thead>\n",
              "    <tr style=\"text-align: right;\">\n",
              "      <th></th>\n",
              "      <th>case_id</th>\n",
              "      <th>state</th>\n",
              "      <th>isMetro</th>\n",
              "      <th>areaname</th>\n",
              "      <th>county</th>\n",
              "      <th>family_member_count</th>\n",
              "      <th>housing_cost</th>\n",
              "      <th>food_cost</th>\n",
              "      <th>transportation_cost</th>\n",
              "      <th>healthcare_cost</th>\n",
              "      <th>other_necessities_cost</th>\n",
              "      <th>childcare_cost</th>\n",
              "      <th>taxes</th>\n",
              "      <th>total_cost</th>\n",
              "      <th>median_family_income</th>\n",
              "    </tr>\n",
              "  </thead>\n",
              "  <tbody>\n",
              "    <tr>\n",
              "      <th>0</th>\n",
              "      <td>1</td>\n",
              "      <td>AL</td>\n",
              "      <td>True</td>\n",
              "      <td>Montgomery, AL MSA</td>\n",
              "      <td>Autauga County</td>\n",
              "      <td>1p0c</td>\n",
              "      <td>8505.72876</td>\n",
              "      <td>3454.91712</td>\n",
              "      <td>10829.16876</td>\n",
              "      <td>5737.47984</td>\n",
              "      <td>4333.81344</td>\n",
              "      <td>0.0000</td>\n",
              "      <td>6392.94504</td>\n",
              "      <td>39254.0532</td>\n",
              "      <td>73010.414062</td>\n",
              "    </tr>\n",
              "    <tr>\n",
              "      <th>1</th>\n",
              "      <td>1</td>\n",
              "      <td>AL</td>\n",
              "      <td>True</td>\n",
              "      <td>Montgomery, AL MSA</td>\n",
              "      <td>Autauga County</td>\n",
              "      <td>1p1c</td>\n",
              "      <td>12067.50240</td>\n",
              "      <td>5091.70788</td>\n",
              "      <td>11588.19288</td>\n",
              "      <td>8659.55640</td>\n",
              "      <td>6217.45896</td>\n",
              "      <td>6147.8298</td>\n",
              "      <td>7422.07836</td>\n",
              "      <td>57194.3256</td>\n",
              "      <td>73010.414062</td>\n",
              "    </tr>\n",
              "    <tr>\n",
              "      <th>2</th>\n",
              "      <td>1</td>\n",
              "      <td>AL</td>\n",
              "      <td>True</td>\n",
              "      <td>Montgomery, AL MSA</td>\n",
              "      <td>Autauga County</td>\n",
              "      <td>1p2c</td>\n",
              "      <td>12067.50240</td>\n",
              "      <td>7460.20308</td>\n",
              "      <td>12361.77720</td>\n",
              "      <td>11581.63260</td>\n",
              "      <td>7075.65816</td>\n",
              "      <td>15824.6940</td>\n",
              "      <td>9769.56228</td>\n",
              "      <td>76141.0308</td>\n",
              "      <td>73010.414062</td>\n",
              "    </tr>\n",
              "    <tr>\n",
              "      <th>3</th>\n",
              "      <td>1</td>\n",
              "      <td>AL</td>\n",
              "      <td>True</td>\n",
              "      <td>Montgomery, AL MSA</td>\n",
              "      <td>Autauga County</td>\n",
              "      <td>1p3c</td>\n",
              "      <td>15257.15040</td>\n",
              "      <td>9952.23924</td>\n",
              "      <td>13452.18600</td>\n",
              "      <td>14503.70760</td>\n",
              "      <td>9134.35620</td>\n",
              "      <td>18802.1892</td>\n",
              "      <td>13101.70320</td>\n",
              "      <td>94203.5328</td>\n",
              "      <td>73010.414062</td>\n",
              "    </tr>\n",
              "    <tr>\n",
              "      <th>4</th>\n",
              "      <td>1</td>\n",
              "      <td>AL</td>\n",
              "      <td>True</td>\n",
              "      <td>Montgomery, AL MSA</td>\n",
              "      <td>Autauga County</td>\n",
              "      <td>1p4c</td>\n",
              "      <td>15257.15040</td>\n",
              "      <td>12182.21400</td>\n",
              "      <td>13744.59840</td>\n",
              "      <td>17425.78560</td>\n",
              "      <td>9942.36396</td>\n",
              "      <td>18802.1892</td>\n",
              "      <td>13469.21880</td>\n",
              "      <td>100823.5200</td>\n",
              "      <td>73010.414062</td>\n",
              "    </tr>\n",
              "  </tbody>\n",
              "</table>\n",
              "</div>\n",
              "    <div class=\"colab-df-buttons\">\n",
              "\n",
              "  <div class=\"colab-df-container\">\n",
              "    <button class=\"colab-df-convert\" onclick=\"convertToInteractive('df-e7418e66-c237-415d-9896-cee116a1d921')\"\n",
              "            title=\"Convert this dataframe to an interactive table.\"\n",
              "            style=\"display:none;\">\n",
              "\n",
              "  <svg xmlns=\"http://www.w3.org/2000/svg\" height=\"24px\" viewBox=\"0 -960 960 960\">\n",
              "    <path d=\"M120-120v-720h720v720H120Zm60-500h600v-160H180v160Zm220 220h160v-160H400v160Zm0 220h160v-160H400v160ZM180-400h160v-160H180v160Zm440 0h160v-160H620v160ZM180-180h160v-160H180v160Zm440 0h160v-160H620v160Z\"/>\n",
              "  </svg>\n",
              "    </button>\n",
              "\n",
              "  <style>\n",
              "    .colab-df-container {\n",
              "      display:flex;\n",
              "      gap: 12px;\n",
              "    }\n",
              "\n",
              "    .colab-df-convert {\n",
              "      background-color: #E8F0FE;\n",
              "      border: none;\n",
              "      border-radius: 50%;\n",
              "      cursor: pointer;\n",
              "      display: none;\n",
              "      fill: #1967D2;\n",
              "      height: 32px;\n",
              "      padding: 0 0 0 0;\n",
              "      width: 32px;\n",
              "    }\n",
              "\n",
              "    .colab-df-convert:hover {\n",
              "      background-color: #E2EBFA;\n",
              "      box-shadow: 0px 1px 2px rgba(60, 64, 67, 0.3), 0px 1px 3px 1px rgba(60, 64, 67, 0.15);\n",
              "      fill: #174EA6;\n",
              "    }\n",
              "\n",
              "    .colab-df-buttons div {\n",
              "      margin-bottom: 4px;\n",
              "    }\n",
              "\n",
              "    [theme=dark] .colab-df-convert {\n",
              "      background-color: #3B4455;\n",
              "      fill: #D2E3FC;\n",
              "    }\n",
              "\n",
              "    [theme=dark] .colab-df-convert:hover {\n",
              "      background-color: #434B5C;\n",
              "      box-shadow: 0px 1px 3px 1px rgba(0, 0, 0, 0.15);\n",
              "      filter: drop-shadow(0px 1px 2px rgba(0, 0, 0, 0.3));\n",
              "      fill: #FFFFFF;\n",
              "    }\n",
              "  </style>\n",
              "\n",
              "    <script>\n",
              "      const buttonEl =\n",
              "        document.querySelector('#df-e7418e66-c237-415d-9896-cee116a1d921 button.colab-df-convert');\n",
              "      buttonEl.style.display =\n",
              "        google.colab.kernel.accessAllowed ? 'block' : 'none';\n",
              "\n",
              "      async function convertToInteractive(key) {\n",
              "        const element = document.querySelector('#df-e7418e66-c237-415d-9896-cee116a1d921');\n",
              "        const dataTable =\n",
              "          await google.colab.kernel.invokeFunction('convertToInteractive',\n",
              "                                                    [key], {});\n",
              "        if (!dataTable) return;\n",
              "\n",
              "        const docLinkHtml = 'Like what you see? Visit the ' +\n",
              "          '<a target=\"_blank\" href=https://colab.research.google.com/notebooks/data_table.ipynb>data table notebook</a>'\n",
              "          + ' to learn more about interactive tables.';\n",
              "        element.innerHTML = '';\n",
              "        dataTable['output_type'] = 'display_data';\n",
              "        await google.colab.output.renderOutput(dataTable, element);\n",
              "        const docLink = document.createElement('div');\n",
              "        docLink.innerHTML = docLinkHtml;\n",
              "        element.appendChild(docLink);\n",
              "      }\n",
              "    </script>\n",
              "  </div>\n",
              "\n",
              "\n",
              "<div id=\"df-3727ee2f-ba2a-4e96-b0f2-dca01f97148a\">\n",
              "  <button class=\"colab-df-quickchart\" onclick=\"quickchart('df-3727ee2f-ba2a-4e96-b0f2-dca01f97148a')\"\n",
              "            title=\"Suggest charts\"\n",
              "            style=\"display:none;\">\n",
              "\n",
              "<svg xmlns=\"http://www.w3.org/2000/svg\" height=\"24px\"viewBox=\"0 0 24 24\"\n",
              "     width=\"24px\">\n",
              "    <g>\n",
              "        <path d=\"M19 3H5c-1.1 0-2 .9-2 2v14c0 1.1.9 2 2 2h14c1.1 0 2-.9 2-2V5c0-1.1-.9-2-2-2zM9 17H7v-7h2v7zm4 0h-2V7h2v10zm4 0h-2v-4h2v4z\"/>\n",
              "    </g>\n",
              "</svg>\n",
              "  </button>\n",
              "\n",
              "<style>\n",
              "  .colab-df-quickchart {\n",
              "      --bg-color: #E8F0FE;\n",
              "      --fill-color: #1967D2;\n",
              "      --hover-bg-color: #E2EBFA;\n",
              "      --hover-fill-color: #174EA6;\n",
              "      --disabled-fill-color: #AAA;\n",
              "      --disabled-bg-color: #DDD;\n",
              "  }\n",
              "\n",
              "  [theme=dark] .colab-df-quickchart {\n",
              "      --bg-color: #3B4455;\n",
              "      --fill-color: #D2E3FC;\n",
              "      --hover-bg-color: #434B5C;\n",
              "      --hover-fill-color: #FFFFFF;\n",
              "      --disabled-bg-color: #3B4455;\n",
              "      --disabled-fill-color: #666;\n",
              "  }\n",
              "\n",
              "  .colab-df-quickchart {\n",
              "    background-color: var(--bg-color);\n",
              "    border: none;\n",
              "    border-radius: 50%;\n",
              "    cursor: pointer;\n",
              "    display: none;\n",
              "    fill: var(--fill-color);\n",
              "    height: 32px;\n",
              "    padding: 0;\n",
              "    width: 32px;\n",
              "  }\n",
              "\n",
              "  .colab-df-quickchart:hover {\n",
              "    background-color: var(--hover-bg-color);\n",
              "    box-shadow: 0 1px 2px rgba(60, 64, 67, 0.3), 0 1px 3px 1px rgba(60, 64, 67, 0.15);\n",
              "    fill: var(--button-hover-fill-color);\n",
              "  }\n",
              "\n",
              "  .colab-df-quickchart-complete:disabled,\n",
              "  .colab-df-quickchart-complete:disabled:hover {\n",
              "    background-color: var(--disabled-bg-color);\n",
              "    fill: var(--disabled-fill-color);\n",
              "    box-shadow: none;\n",
              "  }\n",
              "\n",
              "  .colab-df-spinner {\n",
              "    border: 2px solid var(--fill-color);\n",
              "    border-color: transparent;\n",
              "    border-bottom-color: var(--fill-color);\n",
              "    animation:\n",
              "      spin 1s steps(1) infinite;\n",
              "  }\n",
              "\n",
              "  @keyframes spin {\n",
              "    0% {\n",
              "      border-color: transparent;\n",
              "      border-bottom-color: var(--fill-color);\n",
              "      border-left-color: var(--fill-color);\n",
              "    }\n",
              "    20% {\n",
              "      border-color: transparent;\n",
              "      border-left-color: var(--fill-color);\n",
              "      border-top-color: var(--fill-color);\n",
              "    }\n",
              "    30% {\n",
              "      border-color: transparent;\n",
              "      border-left-color: var(--fill-color);\n",
              "      border-top-color: var(--fill-color);\n",
              "      border-right-color: var(--fill-color);\n",
              "    }\n",
              "    40% {\n",
              "      border-color: transparent;\n",
              "      border-right-color: var(--fill-color);\n",
              "      border-top-color: var(--fill-color);\n",
              "    }\n",
              "    60% {\n",
              "      border-color: transparent;\n",
              "      border-right-color: var(--fill-color);\n",
              "    }\n",
              "    80% {\n",
              "      border-color: transparent;\n",
              "      border-right-color: var(--fill-color);\n",
              "      border-bottom-color: var(--fill-color);\n",
              "    }\n",
              "    90% {\n",
              "      border-color: transparent;\n",
              "      border-bottom-color: var(--fill-color);\n",
              "    }\n",
              "  }\n",
              "</style>\n",
              "\n",
              "  <script>\n",
              "    async function quickchart(key) {\n",
              "      const quickchartButtonEl =\n",
              "        document.querySelector('#' + key + ' button');\n",
              "      quickchartButtonEl.disabled = true;  // To prevent multiple clicks.\n",
              "      quickchartButtonEl.classList.add('colab-df-spinner');\n",
              "      try {\n",
              "        const charts = await google.colab.kernel.invokeFunction(\n",
              "            'suggestCharts', [key], {});\n",
              "      } catch (error) {\n",
              "        console.error('Error during call to suggestCharts:', error);\n",
              "      }\n",
              "      quickchartButtonEl.classList.remove('colab-df-spinner');\n",
              "      quickchartButtonEl.classList.add('colab-df-quickchart-complete');\n",
              "    }\n",
              "    (() => {\n",
              "      let quickchartButtonEl =\n",
              "        document.querySelector('#df-3727ee2f-ba2a-4e96-b0f2-dca01f97148a button');\n",
              "      quickchartButtonEl.style.display =\n",
              "        google.colab.kernel.accessAllowed ? 'block' : 'none';\n",
              "    })();\n",
              "  </script>\n",
              "</div>\n",
              "    </div>\n",
              "  </div>\n"
            ],
            "application/vnd.google.colaboratory.intrinsic+json": {
              "type": "dataframe",
              "variable_name": "df",
              "summary": "{\n  \"name\": \"df\",\n  \"rows\": 31430,\n  \"fields\": [\n    {\n      \"column\": \"case_id\",\n      \"properties\": {\n        \"dtype\": \"number\",\n        \"std\": 917,\n        \"min\": 1,\n        \"max\": 3171,\n        \"num_unique_values\": 3143,\n        \"samples\": [\n          3022,\n          3000,\n          1071\n        ],\n        \"semantic_type\": \"\",\n        \"description\": \"\"\n      }\n    },\n    {\n      \"column\": \"state\",\n      \"properties\": {\n        \"dtype\": \"category\",\n        \"num_unique_values\": 51,\n        \"samples\": [\n          \"TX\",\n          \"SC\",\n          \"VA\"\n        ],\n        \"semantic_type\": \"\",\n        \"description\": \"\"\n      }\n    },\n    {\n      \"column\": \"isMetro\",\n      \"properties\": {\n        \"dtype\": \"boolean\",\n        \"num_unique_values\": 2,\n        \"samples\": [\n          false,\n          true\n        ],\n        \"semantic_type\": \"\",\n        \"description\": \"\"\n      }\n    },\n    {\n      \"column\": \"areaname\",\n      \"properties\": {\n        \"dtype\": \"category\",\n        \"num_unique_values\": 2561,\n        \"samples\": [\n          \"Frio County, TX\",\n          \"Logan County, OH\"\n        ],\n        \"semantic_type\": \"\",\n        \"description\": \"\"\n      }\n    },\n    {\n      \"column\": \"county\",\n      \"properties\": {\n        \"dtype\": \"category\",\n        \"num_unique_values\": 1877,\n        \"samples\": [\n          \"Lancaster County\",\n          \"Greenville County\"\n        ],\n        \"semantic_type\": \"\",\n        \"description\": \"\"\n      }\n    },\n    {\n      \"column\": \"family_member_count\",\n      \"properties\": {\n        \"dtype\": \"category\",\n        \"num_unique_values\": 10,\n        \"samples\": [\n          \"2p3c\",\n          \"1p1c\"\n        ],\n        \"semantic_type\": \"\",\n        \"description\": \"\"\n      }\n    },\n    {\n      \"column\": \"housing_cost\",\n      \"properties\": {\n        \"dtype\": \"number\",\n        \"std\": 4165.606146832102,\n        \"min\": 4209.31128,\n        \"max\": 61735.5876,\n        \"num_unique_values\": 4276,\n        \"samples\": [\n          18324.0,\n          9591.09516\n        ],\n        \"semantic_type\": \"\",\n        \"description\": \"\"\n      }\n    },\n    {\n      \"column\": \"food_cost\",\n      \"properties\": {\n        \"dtype\": \"number\",\n        \"std\": 3271.140249082113,\n        \"min\": 2220.27684,\n        \"max\": 31178.6196,\n        \"num_unique_values\": 2209,\n        \"samples\": [\n          5268.83496,\n          12275.9856\n        ],\n        \"semantic_type\": \"\",\n        \"description\": \"\"\n      }\n    },\n    {\n      \"column\": \"transportation_cost\",\n      \"properties\": {\n        \"dtype\": \"number\",\n        \"std\": 1640.4565617637459,\n        \"min\": 2216.46144,\n        \"max\": 19816.482,\n        \"num_unique_values\": 31289,\n        \"samples\": [\n          12919.9248,\n          15536.73\n        ],\n        \"semantic_type\": \"\",\n        \"description\": \"\"\n      }\n    },\n    {\n      \"column\": \"healthcare_cost\",\n      \"properties\": {\n        \"dtype\": \"number\",\n        \"std\": 5204.5457099064515,\n        \"min\": 3476.37996,\n        \"max\": 37252.2744,\n        \"num_unique_values\": 5893,\n        \"samples\": [\n          11761.69332,\n          14209.4148\n        ],\n        \"semantic_type\": \"\",\n        \"description\": \"\"\n      }\n    },\n    {\n      \"column\": \"other_necessities_cost\",\n      \"properties\": {\n        \"dtype\": \"number\",\n        \"std\": 2397.41549019838,\n        \"min\": 2611.64208,\n        \"max\": 28829.4432,\n        \"num_unique_values\": 27799,\n        \"samples\": [\n          3641.30016,\n          4405.38312\n        ],\n        \"semantic_type\": \"\",\n        \"description\": \"\"\n      }\n    },\n    {\n      \"column\": \"childcare_cost\",\n      \"properties\": {\n        \"dtype\": \"number\",\n        \"std\": 6778.223398871414,\n        \"min\": 0.0,\n        \"max\": 48831.0852,\n        \"num_unique_values\": 8688,\n        \"samples\": [\n          6229.72776,\n          14579.0124\n        ],\n        \"semantic_type\": \"\",\n        \"description\": \"\"\n      }\n    },\n    {\n      \"column\": \"taxes\",\n      \"properties\": {\n        \"dtype\": \"number\",\n        \"std\": 3339.795570806517,\n        \"min\": 1027.800756,\n        \"max\": 47753.3904,\n        \"num_unique_values\": 31182,\n        \"samples\": [\n          7932.86352,\n          6401.81256\n        ],\n        \"semantic_type\": \"\",\n        \"description\": \"\"\n      }\n    },\n    {\n      \"column\": \"total_cost\",\n      \"properties\": {\n        \"dtype\": \"number\",\n        \"std\": 21846.54523527462,\n        \"min\": 30087.6624,\n        \"max\": 223717.548,\n        \"num_unique_values\": 31406,\n        \"samples\": [\n          48020.3436,\n          34487.6256\n        ],\n        \"semantic_type\": \"\",\n        \"description\": \"\"\n      }\n    },\n    {\n      \"column\": \"median_family_income\",\n      \"properties\": {\n        \"dtype\": \"number\",\n        \"std\": 16886.97024487929,\n        \"min\": 25529.9765625,\n        \"max\": 177662.46875,\n        \"num_unique_values\": 2995,\n        \"samples\": [\n          80798.890625,\n          56736.24609375\n        ],\n        \"semantic_type\": \"\",\n        \"description\": \"\"\n      }\n    }\n  ]\n}"
            }
          },
          "metadata": {},
          "execution_count": 4
        }
      ]
    },
    {
      "cell_type": "markdown",
      "source": [
        "exploring the data- checking for missing values"
      ],
      "metadata": {
        "id": "cc_AHof_4H58"
      }
    },
    {
      "cell_type": "code",
      "source": [
        "df.shape"
      ],
      "metadata": {
        "id": "YsKIaVouxyY-",
        "colab": {
          "base_uri": "https://localhost:8080/"
        },
        "outputId": "6dfb867b-2d3f-4d61-a9a1-fe3b02d2b384"
      },
      "execution_count": 5,
      "outputs": [
        {
          "output_type": "execute_result",
          "data": {
            "text/plain": [
              "(31430, 15)"
            ]
          },
          "metadata": {},
          "execution_count": 5
        }
      ]
    },
    {
      "cell_type": "code",
      "source": [
        "df.columns"
      ],
      "metadata": {
        "id": "Im5JhMZ5xyVd",
        "colab": {
          "base_uri": "https://localhost:8080/"
        },
        "outputId": "d9791c3f-4a58-46b5-b60a-79cc4da926f9"
      },
      "execution_count": 6,
      "outputs": [
        {
          "output_type": "execute_result",
          "data": {
            "text/plain": [
              "Index(['case_id', 'state', 'isMetro', 'areaname', 'county',\n",
              "       'family_member_count', 'housing_cost', 'food_cost',\n",
              "       'transportation_cost', 'healthcare_cost', 'other_necessities_cost',\n",
              "       'childcare_cost', 'taxes', 'total_cost', 'median_family_income'],\n",
              "      dtype='object')"
            ]
          },
          "metadata": {},
          "execution_count": 6
        }
      ]
    },
    {
      "cell_type": "code",
      "source": [
        "df.isnull().sum()"
      ],
      "metadata": {
        "id": "gjK-Mwp-xyJM",
        "colab": {
          "base_uri": "https://localhost:8080/"
        },
        "outputId": "aeef5662-65f8-41f4-c709-c691dc66656d"
      },
      "execution_count": 7,
      "outputs": [
        {
          "output_type": "execute_result",
          "data": {
            "text/plain": [
              "case_id                    0\n",
              "state                      0\n",
              "isMetro                    0\n",
              "areaname                   0\n",
              "county                     0\n",
              "family_member_count        0\n",
              "housing_cost               0\n",
              "food_cost                  0\n",
              "transportation_cost        0\n",
              "healthcare_cost            0\n",
              "other_necessities_cost     0\n",
              "childcare_cost             0\n",
              "taxes                      0\n",
              "total_cost                 0\n",
              "median_family_income      10\n",
              "dtype: int64"
            ]
          },
          "metadata": {},
          "execution_count": 7
        }
      ]
    },
    {
      "cell_type": "markdown",
      "source": [
        "missing values only in the 'median_family_income' column."
      ],
      "metadata": {
        "id": "G4_Z3RMt2Zjn"
      }
    },
    {
      "cell_type": "code",
      "source": [
        "# Impute missing values with the mean\n",
        "median_income_mean = df['median_family_income'].mean()\n",
        "df['median_family_income'].fillna(median_income_mean, inplace=True)\n",
        "\n",
        "# Verify if there are any missing values left\n",
        "print(df.isnull().sum())\n"
      ],
      "metadata": {
        "colab": {
          "base_uri": "https://localhost:8080/"
        },
        "id": "kxRlU_zk2Qx0",
        "outputId": "b898dcf3-d1c2-4a11-df63-2d8cbb246a4f"
      },
      "execution_count": 9,
      "outputs": [
        {
          "output_type": "stream",
          "name": "stdout",
          "text": [
            "case_id                   0\n",
            "state                     0\n",
            "isMetro                   0\n",
            "areaname                  0\n",
            "county                    0\n",
            "family_member_count       0\n",
            "housing_cost              0\n",
            "food_cost                 0\n",
            "transportation_cost       0\n",
            "healthcare_cost           0\n",
            "other_necessities_cost    0\n",
            "childcare_cost            0\n",
            "taxes                     0\n",
            "total_cost                0\n",
            "median_family_income      0\n",
            "dtype: int64\n"
          ]
        }
      ]
    },
    {
      "cell_type": "code",
      "source": [
        "duplicate_rows = df.duplicated()\n",
        "duplicate_rows"
      ],
      "metadata": {
        "colab": {
          "base_uri": "https://localhost:8080/"
        },
        "id": "A18MM6r1138M",
        "outputId": "5643994b-06c1-4cf1-dc69-017d6d5f1986"
      },
      "execution_count": 8,
      "outputs": [
        {
          "output_type": "execute_result",
          "data": {
            "text/plain": [
              "0        False\n",
              "1        False\n",
              "2        False\n",
              "3        False\n",
              "4        False\n",
              "         ...  \n",
              "31425    False\n",
              "31426    False\n",
              "31427    False\n",
              "31428    False\n",
              "31429    False\n",
              "Length: 31430, dtype: bool"
            ]
          },
          "metadata": {},
          "execution_count": 8
        }
      ]
    },
    {
      "cell_type": "code",
      "source": [
        "from sklearn.model_selection import train_test_split\n",
        "from sklearn.linear_model import LinearRegression\n",
        "from sklearn.metrics import mean_squared_error, r2_score"
      ],
      "metadata": {
        "id": "AXdmC2kD134y"
      },
      "execution_count": 21,
      "outputs": []
    },
    {
      "cell_type": "code",
      "source": [
        "# Split the data into training and testing sets\n",
        "X = df.drop(['total_cost', 'case_id', 'areaname', 'county'], axis=1)  # Features\n",
        "y = df['total_cost'] / df['median_family_income'] * 100  # Percentage of income to invest and spend\n"
      ],
      "metadata": {
        "id": "R-lkehL7131V"
      },
      "execution_count": 25,
      "outputs": []
    },
    {
      "cell_type": "markdown",
      "source": [
        "data preprocessing - One-Hot Encoding for categorical variables"
      ],
      "metadata": {
        "id": "RZCH3Den4h7z"
      }
    },
    {
      "cell_type": "code",
      "source": [
        "X = pd.get_dummies(X, columns=['state', 'isMetro'])"
      ],
      "metadata": {
        "id": "EcZTmdeJ4e_J"
      },
      "execution_count": 26,
      "outputs": []
    },
    {
      "cell_type": "code",
      "source": [
        "# Data Preprocessing - Handle non-numeric values in 'family_member_count'\n",
        "# Assuming 'family_member_count' contains values like '1p0c', '1p1c', etc.\n",
        "X['adults'] = X['family_member_count'].apply(lambda x: int(x.split('p')[0]))\n",
        "X['children'] = X['family_member_count'].apply(lambda x: int(x.split('p')[1][:-1]))  # Remove 'c' from the end\n",
        "X.drop('family_member_count', axis=1, inplace=True)"
      ],
      "metadata": {
        "id": "-fMdpHWv6GZR"
      },
      "execution_count": 32,
      "outputs": []
    },
    {
      "cell_type": "code",
      "source": [
        "# Split the data into training and testing sets\n",
        "X_train, X_test, y_train, y_test = train_test_split(X, y, test_size=0.2, random_state=42)"
      ],
      "metadata": {
        "id": "gN30eRjD5p64"
      },
      "execution_count": 34,
      "outputs": []
    },
    {
      "cell_type": "code",
      "source": [
        "model = LinearRegression()"
      ],
      "metadata": {
        "id": "h-SEQbgS13za"
      },
      "execution_count": 35,
      "outputs": []
    },
    {
      "cell_type": "code",
      "source": [
        "X_train.shape, y_train.shape"
      ],
      "metadata": {
        "colab": {
          "base_uri": "https://localhost:8080/"
        },
        "id": "T6Xg0H9K3biK",
        "outputId": "91d56324-76b1-4ff4-d609-fc1fec25950c"
      },
      "execution_count": 36,
      "outputs": [
        {
          "output_type": "execute_result",
          "data": {
            "text/plain": [
              "((25144, 63), (25144,))"
            ]
          },
          "metadata": {},
          "execution_count": 36
        }
      ]
    },
    {
      "cell_type": "code",
      "source": [
        "X_test.shape, y_test.shape"
      ],
      "metadata": {
        "colab": {
          "base_uri": "https://localhost:8080/"
        },
        "id": "4RePjFx93iJy",
        "outputId": "a3e334af-799a-48b4-f776-579a5acd47f3"
      },
      "execution_count": 37,
      "outputs": [
        {
          "output_type": "execute_result",
          "data": {
            "text/plain": [
              "((6286, 63), (6286,))"
            ]
          },
          "metadata": {},
          "execution_count": 37
        }
      ]
    },
    {
      "cell_type": "markdown",
      "source": [],
      "metadata": {
        "id": "ZANTK-U1413g"
      }
    },
    {
      "cell_type": "code",
      "source": [
        "model.fit(X_train, y_train)"
      ],
      "metadata": {
        "colab": {
          "base_uri": "https://localhost:8080/",
          "height": 74
        },
        "id": "J9DSi8-43oNA",
        "outputId": "4a736c08-391e-4909-ed1d-84af234cf156"
      },
      "execution_count": 38,
      "outputs": [
        {
          "output_type": "execute_result",
          "data": {
            "text/plain": [
              "LinearRegression()"
            ],
            "text/html": [
              "<style>#sk-container-id-1 {color: black;background-color: white;}#sk-container-id-1 pre{padding: 0;}#sk-container-id-1 div.sk-toggleable {background-color: white;}#sk-container-id-1 label.sk-toggleable__label {cursor: pointer;display: block;width: 100%;margin-bottom: 0;padding: 0.3em;box-sizing: border-box;text-align: center;}#sk-container-id-1 label.sk-toggleable__label-arrow:before {content: \"▸\";float: left;margin-right: 0.25em;color: #696969;}#sk-container-id-1 label.sk-toggleable__label-arrow:hover:before {color: black;}#sk-container-id-1 div.sk-estimator:hover label.sk-toggleable__label-arrow:before {color: black;}#sk-container-id-1 div.sk-toggleable__content {max-height: 0;max-width: 0;overflow: hidden;text-align: left;background-color: #f0f8ff;}#sk-container-id-1 div.sk-toggleable__content pre {margin: 0.2em;color: black;border-radius: 0.25em;background-color: #f0f8ff;}#sk-container-id-1 input.sk-toggleable__control:checked~div.sk-toggleable__content {max-height: 200px;max-width: 100%;overflow: auto;}#sk-container-id-1 input.sk-toggleable__control:checked~label.sk-toggleable__label-arrow:before {content: \"▾\";}#sk-container-id-1 div.sk-estimator input.sk-toggleable__control:checked~label.sk-toggleable__label {background-color: #d4ebff;}#sk-container-id-1 div.sk-label input.sk-toggleable__control:checked~label.sk-toggleable__label {background-color: #d4ebff;}#sk-container-id-1 input.sk-hidden--visually {border: 0;clip: rect(1px 1px 1px 1px);clip: rect(1px, 1px, 1px, 1px);height: 1px;margin: -1px;overflow: hidden;padding: 0;position: absolute;width: 1px;}#sk-container-id-1 div.sk-estimator {font-family: monospace;background-color: #f0f8ff;border: 1px dotted black;border-radius: 0.25em;box-sizing: border-box;margin-bottom: 0.5em;}#sk-container-id-1 div.sk-estimator:hover {background-color: #d4ebff;}#sk-container-id-1 div.sk-parallel-item::after {content: \"\";width: 100%;border-bottom: 1px solid gray;flex-grow: 1;}#sk-container-id-1 div.sk-label:hover label.sk-toggleable__label {background-color: #d4ebff;}#sk-container-id-1 div.sk-serial::before {content: \"\";position: absolute;border-left: 1px solid gray;box-sizing: border-box;top: 0;bottom: 0;left: 50%;z-index: 0;}#sk-container-id-1 div.sk-serial {display: flex;flex-direction: column;align-items: center;background-color: white;padding-right: 0.2em;padding-left: 0.2em;position: relative;}#sk-container-id-1 div.sk-item {position: relative;z-index: 1;}#sk-container-id-1 div.sk-parallel {display: flex;align-items: stretch;justify-content: center;background-color: white;position: relative;}#sk-container-id-1 div.sk-item::before, #sk-container-id-1 div.sk-parallel-item::before {content: \"\";position: absolute;border-left: 1px solid gray;box-sizing: border-box;top: 0;bottom: 0;left: 50%;z-index: -1;}#sk-container-id-1 div.sk-parallel-item {display: flex;flex-direction: column;z-index: 1;position: relative;background-color: white;}#sk-container-id-1 div.sk-parallel-item:first-child::after {align-self: flex-end;width: 50%;}#sk-container-id-1 div.sk-parallel-item:last-child::after {align-self: flex-start;width: 50%;}#sk-container-id-1 div.sk-parallel-item:only-child::after {width: 0;}#sk-container-id-1 div.sk-dashed-wrapped {border: 1px dashed gray;margin: 0 0.4em 0.5em 0.4em;box-sizing: border-box;padding-bottom: 0.4em;background-color: white;}#sk-container-id-1 div.sk-label label {font-family: monospace;font-weight: bold;display: inline-block;line-height: 1.2em;}#sk-container-id-1 div.sk-label-container {text-align: center;}#sk-container-id-1 div.sk-container {/* jupyter's `normalize.less` sets `[hidden] { display: none; }` but bootstrap.min.css set `[hidden] { display: none !important; }` so we also need the `!important` here to be able to override the default hidden behavior on the sphinx rendered scikit-learn.org. See: https://github.com/scikit-learn/scikit-learn/issues/21755 */display: inline-block !important;position: relative;}#sk-container-id-1 div.sk-text-repr-fallback {display: none;}</style><div id=\"sk-container-id-1\" class=\"sk-top-container\"><div class=\"sk-text-repr-fallback\"><pre>LinearRegression()</pre><b>In a Jupyter environment, please rerun this cell to show the HTML representation or trust the notebook. <br />On GitHub, the HTML representation is unable to render, please try loading this page with nbviewer.org.</b></div><div class=\"sk-container\" hidden><div class=\"sk-item\"><div class=\"sk-estimator sk-toggleable\"><input class=\"sk-toggleable__control sk-hidden--visually\" id=\"sk-estimator-id-1\" type=\"checkbox\" checked><label for=\"sk-estimator-id-1\" class=\"sk-toggleable__label sk-toggleable__label-arrow\">LinearRegression</label><div class=\"sk-toggleable__content\"><pre>LinearRegression()</pre></div></div></div></div></div>"
            ]
          },
          "metadata": {},
          "execution_count": 38
        }
      ]
    },
    {
      "cell_type": "code",
      "source": [
        "model.intercept_"
      ],
      "metadata": {
        "colab": {
          "base_uri": "https://localhost:8080/"
        },
        "id": "5ZEw8OfN13uc",
        "outputId": "727178b3-c0bf-4f80-ef48-14da9a608f7e"
      },
      "execution_count": 39,
      "outputs": [
        {
          "output_type": "execute_result",
          "data": {
            "text/plain": [
              "113.26978274745231"
            ]
          },
          "metadata": {},
          "execution_count": 39
        }
      ]
    },
    {
      "cell_type": "code",
      "source": [
        "model.coef_.round(2)"
      ],
      "metadata": {
        "colab": {
          "base_uri": "https://localhost:8080/"
        },
        "id": "TuJc0JX513sY",
        "outputId": "6381e6a0-3273-4156-d550-e9ab64bfd01c"
      },
      "execution_count": 40,
      "outputs": [
        {
          "output_type": "execute_result",
          "data": {
            "text/plain": [
              "array([-1.472e+01, -1.472e+01,  0.000e+00,  0.000e+00,  4.063e+01,\n",
              "        0.000e+00, -0.000e+00, -0.000e+00, -4.810e+00,  2.470e+00,\n",
              "       -8.600e-01,  1.100e-01, -3.440e+00,  4.520e+00,  6.150e+00,\n",
              "        4.440e+00, -3.040e+00, -6.640e+00, -2.000e-02,  7.620e+00,\n",
              "       -1.110e+00,  2.600e-01, -2.360e+00, -2.770e+00, -4.590e+00,\n",
              "        3.580e+00, -5.100e-01,  3.870e+00,  9.780e+00, -2.220e+00,\n",
              "       -3.700e-01, -9.000e-01, -3.810e+00,  8.000e-02,  4.130e+00,\n",
              "       -1.080e+00,  1.420e+00, -3.260e+00,  2.500e-01,  3.950e+00,\n",
              "        6.680e+00, -4.470e+00,  2.190e+00, -3.470e+00,  5.800e-01,\n",
              "        7.390e+00, -4.900e-01,  7.200e+00, -5.270e+00, -3.840e+00,\n",
              "       -6.180e+00, -6.690e+00,  3.730e+00,  3.020e+00, -3.490e+00,\n",
              "       -3.580e+00, -3.600e-01,  1.650e+00, -5.430e+00, -1.900e-01,\n",
              "        1.900e-01, -8.200e-01, -7.500e-01])"
            ]
          },
          "metadata": {},
          "execution_count": 40
        }
      ]
    },
    {
      "cell_type": "code",
      "source": [
        "model.score(X_train, y_train)"
      ],
      "metadata": {
        "colab": {
          "base_uri": "https://localhost:8080/"
        },
        "id": "uA7fS0Dk13p_",
        "outputId": "d68a5f07-29f3-4101-9ccf-a36ad0aa61c1"
      },
      "execution_count": 42,
      "outputs": [
        {
          "output_type": "execute_result",
          "data": {
            "text/plain": [
              "0.9325552481360242"
            ]
          },
          "metadata": {},
          "execution_count": 42
        }
      ]
    },
    {
      "cell_type": "code",
      "source": [
        "model.score(X_test, y_test)"
      ],
      "metadata": {
        "colab": {
          "base_uri": "https://localhost:8080/"
        },
        "id": "rbwphX5l13nb",
        "outputId": "dd157cec-458a-42cb-c35d-dd4f12be66c4"
      },
      "execution_count": 43,
      "outputs": [
        {
          "output_type": "execute_result",
          "data": {
            "text/plain": [
              "0.9307582362398259"
            ]
          },
          "metadata": {},
          "execution_count": 43
        }
      ]
    },
    {
      "cell_type": "code",
      "source": [
        "y_pred = model.predict(X_test)\n",
        "mse = mean_squared_error(y_test, y_pred)\n",
        "r2 = r2_score(y_test, y_pred)\n",
        "print(f\"Mean Squared Error: {mse}\")\n",
        "print(f\"R^2 Score: {r2}\")"
      ],
      "metadata": {
        "colab": {
          "base_uri": "https://localhost:8080/"
        },
        "id": "kgEg7Xk613dA",
        "outputId": "efad69b6-4133-471d-e008-aac31331067f"
      },
      "execution_count": 44,
      "outputs": [
        {
          "output_type": "stream",
          "name": "stdout",
          "text": [
            "Mean Squared Error: 85.28326530129887\n",
            "R^2 Score: 0.9307582362398259\n"
          ]
        }
      ]
    },
    {
      "cell_type": "code",
      "source": [
        "y_pred = model.predict(X_test)"
      ],
      "metadata": {
        "id": "xBuM8GVS7NiQ"
      },
      "execution_count": 45,
      "outputs": []
    },
    {
      "cell_type": "code",
      "source": [
        "predictions_df = pd.DataFrame({'Actual': y_test, 'Predicted': y_pred})\n",
        "print(predictions_df.head())"
      ],
      "metadata": {
        "colab": {
          "base_uri": "https://localhost:8080/"
        },
        "id": "npyIOo4M7SyH",
        "outputId": "29d05746-7453-4f43-fc14-8e2a01b4452a"
      },
      "execution_count": 46,
      "outputs": [
        {
          "output_type": "stream",
          "name": "stdout",
          "text": [
            "           Actual   Predicted\n",
            "30973  101.852762  102.629719\n",
            "5671    88.614570   92.611749\n",
            "9704   117.588149  120.155566\n",
            "15767  127.308262  123.922576\n",
            "24281  130.847897  123.046777\n"
          ]
        }
      ]
    }
  ]
}